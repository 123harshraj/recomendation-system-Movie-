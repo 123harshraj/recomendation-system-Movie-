{
  "cells": [
    {
      "cell_type": "markdown",
      "metadata": {
        "id": "view-in-github",
        "colab_type": "text"
      },
      "source": [
        "<a href=\"https://colab.research.google.com/github/123harshraj/recomendation-system-Movie-/blob/master/Welcome_To_Colaboratory.ipynb\" target=\"_parent\"><img src=\"https://colab.research.google.com/assets/colab-badge.svg\" alt=\"Open In Colab\"/></a>"
      ]
    },
    {
      "cell_type": "code",
      "source": [
        "\n",
        "!pip install scikit-surprise\n",
        "from surprise import Dataset, Reader, KNNBasic\n",
        "from surprise.model_selection import train_test_split\n",
        "import pandas as pd\n",
        "data = {\n",
        "    'userId': [1, 2, 3, 4, 5],\n",
        "    'movieId': [101, 102, 103, 104, 105],\n",
        "    'rating': [4, 3, 5, 2, 4]\n",
        "}\n",
        "df = pd.DataFrame(data)\n",
        "reader = Reader(rating_scale=(1, 5))\n",
        "surprise_data = Dataset.load_from_df(df[['userId', 'movieId', 'rating']], reader)\n",
        "trainset, testset = train_test_split(surprise_data, test_size=0.2)\n",
        "model = KNNBasic()\n",
        "model.fit(trainset)\n",
        "predictions = model.test(testset)\n",
        "def get_movie_recommendations(user_id, n=5):\n",
        "    movie_ids = df['movieId'].unique()\n",
        "    not_watched = [movie_id for movie_id in movie_ids if movie_id not in df[df['userId'] == user_id]['movieId'].values]\n",
        "\n",
        "    user_data = [{'userId': user_id, 'movieId': movie_id, 'rating': 0} for movie_id in not_watched]\n",
        "    user_df = pd.DataFrame(user_data)\n",
        "    user_surprise_data = Dataset.load_from_df(user_df[['userId', 'movieId', 'rating']], reader)\n",
        "\n",
        "    recommendations = model.test(user_surprise_data.build_full_trainset().build_testset())\n",
        "    recommendations.sort(key=lambda x: x.est, reverse=True)\n",
        "\n",
        "    return [rec.iid for rec in recommendations[:n]]\n",
        "user_id = int(input(\"Enter your user ID (1-5): \"))\n",
        "recommended_movie_ids = get_movie_recommendations(user_id, n=5)\n",
        "\n",
        "recommended_movie_titles = df[df['movieId'].isin(recommended_movie_ids)]['movieId'].values\n",
        "print(f\"Recommended movies for user {user_id}:\")\n",
        "for movie_title in recommended_movie_titles:\n",
        "    print(movie_title)\n"
      ],
      "metadata": {
        "id": "ku_Ty8Vo6woG",
        "outputId": "158b559e-d189-4256-bc25-04339d1b66c6",
        "colab": {
          "base_uri": "https://localhost:8080/"
        }
      },
      "execution_count": 11,
      "outputs": [
        {
          "output_type": "stream",
          "name": "stdout",
          "text": [
            "Requirement already satisfied: scikit-surprise in /usr/local/lib/python3.10/dist-packages (1.1.3)\n",
            "Requirement already satisfied: joblib>=1.0.0 in /usr/local/lib/python3.10/dist-packages (from scikit-surprise) (1.3.2)\n",
            "Requirement already satisfied: numpy>=1.17.3 in /usr/local/lib/python3.10/dist-packages (from scikit-surprise) (1.23.5)\n",
            "Requirement already satisfied: scipy>=1.3.2 in /usr/local/lib/python3.10/dist-packages (from scikit-surprise) (1.10.1)\n",
            "Computing the msd similarity matrix...\n",
            "Done computing similarity matrix.\n",
            "Enter your user ID (1-5): 2\n",
            "Recommended movies for user 2:\n",
            "101\n",
            "103\n",
            "104\n",
            "105\n"
          ]
        }
      ]
    }
  ],
  "metadata": {
    "colab": {
      "name": "Welcome To Colaboratory",
      "toc_visible": true,
      "provenance": [],
      "include_colab_link": true
    },
    "kernelspec": {
      "display_name": "Python 3",
      "name": "python3"
    }
  },
  "nbformat": 4,
  "nbformat_minor": 0
}